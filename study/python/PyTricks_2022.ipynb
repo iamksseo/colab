{
  "nbformat": 4,
  "nbformat_minor": 0,
  "metadata": {
    "colab": {
      "provenance": [],
      "authorship_tag": "ABX9TyOkqe1hn6IDaq3QfCfEyXQq",
      "include_colab_link": true
    },
    "kernelspec": {
      "name": "python3",
      "display_name": "Python 3"
    },
    "language_info": {
      "name": "python"
    }
  },
  "cells": [
    {
      "cell_type": "markdown",
      "metadata": {
        "id": "view-in-github",
        "colab_type": "text"
      },
      "source": [
        "<a href=\"https://colab.research.google.com/github/iamksseo/colab/blob/master/study/python/PyTricks_2022.ipynb\" target=\"_parent\"><img src=\"https://colab.research.google.com/assets/colab-badge.svg\" alt=\"Open In Colab\"/></a>"
      ]
    },
    {
      "cell_type": "markdown",
      "source": [],
      "metadata": {
        "id": "xYhDo7BGFZeb"
      }
    },
    {
      "cell_type": "code",
      "execution_count": 1,
      "metadata": {
        "colab": {
          "base_uri": "https://localhost:8080/"
        },
        "id": "YN9GL9EfFDwb",
        "outputId": "3c5fa49f-c406-47c4-81f9-dc8fc6cd4714"
      },
      "outputs": [
        {
          "output_type": "execute_result",
          "data": {
            "text/plain": [
              "{'a': 1, 'b': 3, 'c': 4}"
            ]
          },
          "metadata": {},
          "execution_count": 1
        }
      ],
      "source": [
        "# How to merge two dictionaries\n",
        "# in Python 3.5+\n",
        "\n",
        "x = {'a': 1, 'b': 2}\n",
        "y = {'b': 3, 'c': 4}\n",
        "\n",
        "z = {**x, **y}\n",
        "\n",
        "z\n",
        "\n",
        "# In these examples, Python merges dictionary keys\n",
        "# in the order listed in the expression, overwriting \n",
        "# duplicates from left to right.\n",
        "#\n",
        "# See: https://www.youtube.com/watch?v=Duexw08KaC8"
      ]
    },
    {
      "cell_type": "code",
      "source": [],
      "metadata": {
        "id": "HIJuRbICFhKH"
      },
      "execution_count": null,
      "outputs": []
    }
  ]
}