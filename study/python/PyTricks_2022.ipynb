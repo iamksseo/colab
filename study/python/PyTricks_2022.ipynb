{
  "nbformat": 4,
  "nbformat_minor": 0,
  "metadata": {
    "colab": {
      "provenance": [],
      "toc_visible": true,
      "authorship_tag": "ABX9TyMDetXOrY4JCmxYQ94E6l1K",
      "include_colab_link": true
    },
    "kernelspec": {
      "name": "python3",
      "display_name": "Python 3"
    },
    "language_info": {
      "name": "python"
    }
  },
  "cells": [
    {
      "cell_type": "markdown",
      "metadata": {
        "id": "view-in-github",
        "colab_type": "text"
      },
      "source": [
        "<a href=\"https://colab.research.google.com/github/iamksseo/colab/blob/master/study/python/PyTricks_2022.ipynb\" target=\"_parent\"><img src=\"https://colab.research.google.com/assets/colab-badge.svg\" alt=\"Open In Colab\"/></a>"
      ]
    },
    {
      "cell_type": "markdown",
      "source": [
        "### The get() method on Python dicts and its \"default\" arg"
      ],
      "metadata": {
        "id": "qHbdOwHtHtDR"
      }
    },
    {
      "cell_type": "code",
      "source": [
        "# The get() method on dicts\n",
        "# and its \"default\" argument\n",
        "\n",
        "name_for_userid = {\n",
        "    382: \"Alice\",\n",
        "    590: \"Bob\",\n",
        "    951: \"Dilbert\",\n",
        "}\n",
        "\n",
        "def greeting(userid):\n",
        "    return f\"Hi {name_for_userid.get(userid, 'there')}!\"\n",
        "\n",
        "print(greeting(382))\n",
        "\n",
        "print(greeting(333333))"
      ],
      "metadata": {
        "id": "GlOn60ErHzK9",
        "outputId": "a45cb7d1-e9d6-4712-c39b-63f1ccb17fb5",
        "colab": {
          "base_uri": "https://localhost:8080/"
        }
      },
      "execution_count": 4,
      "outputs": [
        {
          "output_type": "stream",
          "name": "stdout",
          "text": [
            "Hi Alice!\n",
            "Hi there!\n"
          ]
        }
      ]
    },
    {
      "cell_type": "markdown",
      "source": [
        "### How to sort a Python dict by value"
      ],
      "metadata": {
        "id": "qnY-ov2JG3HM"
      }
    },
    {
      "cell_type": "code",
      "source": [
        "import operator\n",
        "\n",
        "xs = {'a': 4, 'b': 3, 'c': 2, 'd': 1}\n",
        "\n",
        "sorted(xs.items(), key=operator.itemgetter(1))"
      ],
      "metadata": {
        "id": "-T4vP3I3G60n",
        "outputId": "70a6e48d-00c2-4133-f833-afe6a1c8cf7c",
        "colab": {
          "base_uri": "https://localhost:8080/"
        }
      },
      "execution_count": 5,
      "outputs": [
        {
          "output_type": "execute_result",
          "data": {
            "text/plain": [
              "[('d', 1), ('c', 2), ('b', 3), ('a', 4)]"
            ]
          },
          "metadata": {},
          "execution_count": 5
        }
      ]
    },
    {
      "cell_type": "markdown",
      "source": [
        "### Different ways to test multiple flags at once in Python"
      ],
      "metadata": {
        "id": "sqINqmqwGl6p"
      }
    },
    {
      "cell_type": "code",
      "source": [
        "# Different ways to test multiple\n",
        "# flags at once in Python\n",
        "x, y, z = 0, 1, 0\n",
        "\n",
        "if x == 1 or y == 1 or z == 1:\n",
        "    print('passed')\n",
        "\n",
        "if 1 in (x, y, z):\n",
        "    print('passed')\n",
        "\n",
        "# These only test for truthiness:\n",
        "if x or y or z:\n",
        "    print('passed')\n",
        "\n",
        "if any((x, y, z)):\n",
        "    print('passed')"
      ],
      "metadata": {
        "id": "l1ByZyn_GlJL",
        "outputId": "cb08a145-5173-41a5-df68-62363d118bfb",
        "colab": {
          "base_uri": "https://localhost:8080/"
        }
      },
      "execution_count": 1,
      "outputs": [
        {
          "output_type": "stream",
          "name": "stdout",
          "text": [
            "passed\n",
            "passed\n",
            "passed\n",
            "passed\n"
          ]
        }
      ]
    },
    {
      "cell_type": "markdown",
      "source": [
        "### Merging two dicts in Python 3.5+ with a single expression"
      ],
      "metadata": {
        "id": "xYhDo7BGFZeb"
      }
    },
    {
      "cell_type": "code",
      "execution_count": null,
      "metadata": {
        "colab": {
          "base_uri": "https://localhost:8080/"
        },
        "id": "YN9GL9EfFDwb",
        "outputId": "3c5fa49f-c406-47c4-81f9-dc8fc6cd4714"
      },
      "outputs": [
        {
          "output_type": "execute_result",
          "data": {
            "text/plain": [
              "{'a': 1, 'b': 3, 'c': 4}"
            ]
          },
          "metadata": {},
          "execution_count": 1
        }
      ],
      "source": [
        "# How to merge two dictionaries\n",
        "# in Python 3.5+\n",
        "\n",
        "x = {'a': 1, 'b': 2}\n",
        "y = {'b': 3, 'c': 4}\n",
        "\n",
        "z = {**x, **y}\n",
        "\n",
        "z\n",
        "\n",
        "# In these examples, Python merges dictionary keys\n",
        "# in the order listed in the expression, overwriting \n",
        "# duplicates from left to right.\n",
        "#\n",
        "# See: https://www.youtube.com/watch?v=Duexw08KaC8"
      ]
    },
    {
      "cell_type": "code",
      "source": [],
      "metadata": {
        "id": "HIJuRbICFhKH"
      },
      "execution_count": null,
      "outputs": []
    }
  ]
}