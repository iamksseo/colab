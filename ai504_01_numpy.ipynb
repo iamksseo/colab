{
  "nbformat": 4,
  "nbformat_minor": 0,
  "metadata": {
    "kernelspec": {
      "display_name": "Python 3",
      "language": "python",
      "name": "python3"
    },
    "language_info": {
      "codemirror_mode": {
        "name": "ipython",
        "version": 3
      },
      "file_extension": ".py",
      "mimetype": "text/x-python",
      "name": "python",
      "nbconvert_exporter": "python",
      "pygments_lexer": "ipython3",
      "version": "3.7.6"
    },
    "colab": {
      "name": "ai504_01_numpy.ipynb",
      "provenance": [],
      "include_colab_link": true
    }
  },
  "cells": [
    {
      "cell_type": "markdown",
      "metadata": {
        "id": "view-in-github",
        "colab_type": "text"
      },
      "source": [
        "<a href=\"https://colab.research.google.com/github/iamksseo/colab/blob/master/ai504_01_numpy.ipynb\" target=\"_parent\"><img src=\"https://colab.research.google.com/assets/colab-badge.svg\" alt=\"Open In Colab\"/></a>"
      ]
    },
    {
      "cell_type": "code",
      "metadata": {
        "id": "SyWD_NshfwMk"
      },
      "source": [
        "import numpy as np"
      ],
      "execution_count": null,
      "outputs": []
    },
    {
      "cell_type": "code",
      "metadata": {
        "id": "xQgs1gsefwMn"
      },
      "source": [
        "def print_obj(obj, name):\n",
        "    print(\"%s:\\n%s\\n\" % (name, obj))\n",
        "    \n",
        "def check_each(a, b):\n",
        "    return (a == b).astype('bool')\n",
        "\n",
        "def check_mean(a, b):\n",
        "    return np.mean(a == b).astype('bool')"
      ],
      "execution_count": null,
      "outputs": []
    },
    {
      "cell_type": "markdown",
      "metadata": {
        "id": "ibqLfib1fwMo"
      },
      "source": [
        "### Scalars, Vectors, Matrices"
      ]
    },
    {
      "cell_type": "code",
      "metadata": {
        "id": "iotHXXtefwMp"
      },
      "source": [
        "a = np.array(1.)\n",
        "b = np.array([1., 2., 3.])\n",
        "c = np.array([[1., 2., 3.], [4., 5., 6.]])"
      ],
      "execution_count": null,
      "outputs": []
    },
    {
      "cell_type": "code",
      "metadata": {
        "id": "hMX_bXnFfwMq"
      },
      "source": [
        "print_obj(a, \"a\")\n",
        "print_obj(b, \"b\")\n",
        "print_obj(c, \"c\")"
      ],
      "execution_count": null,
      "outputs": []
    },
    {
      "cell_type": "code",
      "metadata": {
        "id": "Ku-hU00IfwMq"
      },
      "source": [
        "print_obj(a.ndim, \"a.ndim\")\n",
        "print_obj(b.ndim, \"b.ndim\")\n",
        "print_obj(c.ndim, \"c.ndim\")"
      ],
      "execution_count": null,
      "outputs": []
    },
    {
      "cell_type": "code",
      "metadata": {
        "id": "tATiqbnhfwMr"
      },
      "source": [
        "print_obj(a.shape, \"a.shape\")\n",
        "print_obj(b.shape, \"b.shape\")\n",
        "print_obj(c.shape, \"c.shape\")"
      ],
      "execution_count": null,
      "outputs": []
    },
    {
      "cell_type": "markdown",
      "metadata": {
        "id": "zGKXtxeWfwMs"
      },
      "source": [
        "### Tensors (N-dimensional array)"
      ]
    },
    {
      "cell_type": "code",
      "metadata": {
        "id": "zKsQj6hhfwMt"
      },
      "source": [
        "d = np.array([[[1., 2., 3.], [4., 5., 6.]], [[7., 8., 9.], [10., 11., 12.]]])\n",
        "e = np.array([[[[1., 2., 3.], [1., 2., 3.]], [[4., 5., 6.], [4., 5., 6.]]],\n",
        "              [[[7., 8., 9.], [7., 8., 9.]], [[10., 11., 12.], [10., 11., 12.]]]])"
      ],
      "execution_count": null,
      "outputs": []
    },
    {
      "cell_type": "code",
      "metadata": {
        "id": "qqUpPC51fwMu"
      },
      "source": [
        "print_obj(d, \"d\")\n",
        "print_obj(d.ndim, \"d.ndim\")\n",
        "print_obj(d.shape, \"d.shape\")\n",
        "\n",
        "print_obj(e, \"e\")\n",
        "print_obj(e.ndim, \"e.ndim\")\n",
        "print_obj(e.shape, \"e.shape\")"
      ],
      "execution_count": null,
      "outputs": []
    },
    {
      "cell_type": "code",
      "metadata": {
        "id": "62dRgQOYfwMu"
      },
      "source": [
        "# Quiz: What is the shape of [[[1], [2], [3]], [[4], [5], [6]]]?\n",
        "print(np.array([[[1], [2], [3]], [[4], [5], [6]]]).shape)"
      ],
      "execution_count": null,
      "outputs": []
    },
    {
      "cell_type": "markdown",
      "metadata": {
        "id": "jH5jiPl3fwMu"
      },
      "source": [
        "### Defining Numpy arrays"
      ]
    },
    {
      "cell_type": "code",
      "metadata": {
        "id": "JbVCt8yTfwMv"
      },
      "source": [
        "a = np.ones(10)\n",
        "a"
      ],
      "execution_count": null,
      "outputs": []
    },
    {
      "cell_type": "code",
      "metadata": {
        "id": "mU4MKTjWfwMv"
      },
      "source": [
        "a = np.zeros((2, 5))\n",
        "a"
      ],
      "execution_count": null,
      "outputs": []
    },
    {
      "cell_type": "code",
      "metadata": {
        "id": "i36-nRC8fwMw"
      },
      "source": [
        "a = np.full((2,5), 5)\n",
        "a"
      ],
      "execution_count": null,
      "outputs": []
    },
    {
      "cell_type": "code",
      "metadata": {
        "id": "CvYNdMOufwMw"
      },
      "source": [
        "a = np.random.random((2, 3, 4))\n",
        "a"
      ],
      "execution_count": null,
      "outputs": []
    },
    {
      "cell_type": "code",
      "metadata": {
        "id": "ISsyZvLEfwMw"
      },
      "source": [
        "a = np.arange(10)\n",
        "a"
      ],
      "execution_count": null,
      "outputs": []
    },
    {
      "cell_type": "code",
      "metadata": {
        "id": "YKua9w4UfwMw"
      },
      "source": [
        "a = np.arange(10).astype(float)\n",
        "a"
      ],
      "execution_count": null,
      "outputs": []
    },
    {
      "cell_type": "code",
      "metadata": {
        "id": "Fa2q4EWgfwMw"
      },
      "source": [
        "a = np.arange(10).reshape((5,2))\n",
        "a"
      ],
      "execution_count": null,
      "outputs": []
    },
    {
      "cell_type": "code",
      "metadata": {
        "id": "7L-p1QDGfwMx"
      },
      "source": [
        "# Quiz: Create a 4-by-3-by-2 tensor filled with 0.0 to 23.0\n",
        "a = np.arange(24.).reshape((4,3,2))\n",
        "print(a)\n",
        "print(a.shape)"
      ],
      "execution_count": null,
      "outputs": []
    },
    {
      "cell_type": "markdown",
      "metadata": {
        "id": "nj8-jzMqfwMx"
      },
      "source": [
        "### Indexing & Slicing"
      ]
    },
    {
      "cell_type": "code",
      "metadata": {
        "id": "G5FCB0d5fwMx"
      },
      "source": [
        "# Indexing and slicing a vector\n",
        "a = np.arange(10)\n",
        "print_obj(a, \"a\")\n",
        "\n",
        "print_obj(a[0], \"a[0]\")\n",
        "print_obj(a[1], \"a[1]\")\n",
        "print_obj(a[-1], \"a[-1]\")\n",
        "print_obj(a[-3], \"a[-3]\")\n",
        "\n",
        "print_obj(a[0:10], \"a[0:10]\")\n",
        "print_obj(a[0:], \"a[0:]\")\n",
        "print_obj(a[:10], \"a[:10]\")\n",
        "print_obj(a[:], \"a[:]\")\n",
        "\n",
        "print_obj(a[7:], \"a[7:]\")\n",
        "print_obj(a[:5], \"a[:5]\")\n",
        "print_obj(a[2:5], \"a[2:5]\")\n",
        "\n",
        "# Quiz: What is a[-4:]?\n",
        "print_obj(a[-4:], \"a[-4:]\")\n",
        "# Quiz: What is a[:-8]?\n",
        "print_obj(a[:-8], \"a[:-8]\")\n",
        "\n",
        "print_obj(a[0:10:2], \"a[0:10:2]\")\n",
        "print_obj(a[0:10:3], \"a[0:10:3]\")\n",
        "print_obj(a[2:6:3], \"a[2:6:3]\")\n",
        "\n",
        "print_obj(a[::-1], \"a[::-1]\")\n",
        "print_obj(a[8:5:-1], \"a[8:5:-1]\")\n",
        "print_obj(a[8:5], \"a[8:5]\")\n",
        "\n",
        "# Quiz: Create [9, 6, 3] using a."
      ],
      "execution_count": null,
      "outputs": []
    },
    {
      "cell_type": "code",
      "metadata": {
        "id": "FLhPpgM7fwMy"
      },
      "source": [
        "# Indexing a matrix\n",
        "a = np.arange(9).reshape((3,3))\n",
        "print_obj(a, \"a\")\n",
        "print_obj(a[0][0], \"a[0][0]\")\n",
        "print_obj(a[0,0], \"a[0,0]\")\n",
        "print_obj(a[1,1], \"a[1,1]\")\n",
        "\n",
        "# Quiz: How to access the last row?\n",
        "# Quiz: How to access the second column?\n",
        "# Quiz: How to create [8, 5] using a?\n",
        "a[-1:0:-1, 2]"
      ],
      "execution_count": null,
      "outputs": []
    },
    {
      "cell_type": "code",
      "metadata": {
        "id": "Aka3mGQSfwMy"
      },
      "source": [
        "# Indexing and slicing a 3D tensor\n",
        "a = np.arange(4*3*2).reshape((4, 3, 2))\n",
        "print_obj(a, \"a\")\n",
        "# print_obj(a[2, 1, 0], \"a[2, 1, 0]\")\n",
        "\n",
        "# Quiz: What would be a[0]?\n",
        "# Quiz: What would be a[0, 1]?\n",
        "# Quiz: Create [[0, 2, 4], [6, 8, 10]]\n",
        "a[0:2, :, 0]"
      ],
      "execution_count": null,
      "outputs": []
    },
    {
      "cell_type": "code",
      "metadata": {
        "id": "xZ5___C2fwMy"
      },
      "source": [
        "# Conditional indexing\n",
        "a = np.arange(3*2*1).reshape((3,2,1))\n",
        "print_obj(a, \"a\")\n",
        "\n",
        "idx = a % 2 == 0\n",
        "print_obj(idx, \"idx\")\n",
        "\n",
        "# Quiz: How would you create [3, 4, 5] using a?\n",
        "a[idx]"
      ],
      "execution_count": null,
      "outputs": []
    },
    {
      "cell_type": "code",
      "metadata": {
        "id": "YrK24IAGfwMy"
      },
      "source": [
        "# Taking specific elements from a vector\n",
        "a = np.arange(10)\n",
        "idx = [0, 2, 3]\n",
        "print_obj(a[idx], \"a[idx]\")"
      ],
      "execution_count": null,
      "outputs": []
    },
    {
      "cell_type": "code",
      "metadata": {
        "id": "zEg2IQ_qfwMy"
      },
      "source": [
        "# Taking specific elements from a tensor\n",
        "a = np.arange(24).reshape((6,4))\n",
        "print_obj(a, \"a\")\n",
        "\n",
        "print_obj(a[:,[0, 2, 3]], \"a[idx]\")\n",
        "print_obj(a[[0, 2, 3], :], \"a[idx]\")\n",
        "#idx = ((0,0,1,5),(1,2,0,3))\n",
        "#print_obj(a[idx], \"tuple indexing\")\n",
        "#idx = np.array([[0,0,1,5],[1,2,0,3]])\n",
        "#print_obj(a[idx], \"ndarray indexing\")"
      ],
      "execution_count": null,
      "outputs": []
    },
    {
      "cell_type": "markdown",
      "metadata": {
        "id": "H9KulnRxfwMz"
      },
      "source": [
        "### Math Operations"
      ]
    },
    {
      "cell_type": "code",
      "metadata": {
        "id": "oTgwAEimfwMz"
      },
      "source": [
        "# Basic operations\n",
        "a = np.arange(6).reshape((3, 2))\n",
        "b = np.ones((3, 2))\n",
        "print_obj(a, \"a\")\n",
        "print_obj(b, \"b\")\n",
        "\n",
        "# +, -, *, /\n",
        "print_obj(a+b, \"a+b\")\n",
        "print_obj(a-b, \"a-b\")\n",
        "print_obj(a*b, \"a*b\")\n",
        "print_obj(a/b, \"a/b\")"
      ],
      "execution_count": null,
      "outputs": []
    },
    {
      "cell_type": "code",
      "metadata": {
        "id": "1F6zt_EBfwMz"
      },
      "source": [
        "# Unary operations\n",
        "a = np.arange(6).reshape((3,2))\n",
        "print_obj(a, \"a\")\n",
        "\n",
        "print_obj(a.sum(), \"a.sum()\")\n",
        "print_obj(a.sum(axis=0), \"a.sum(axis=0)\")\n",
        "print_obj(a.sum(axis=1), \"a.sum(axis=1)\")\n",
        "\n",
        "print_obj(a.mean(), \"a.mean()\")\n",
        "print_obj(a.max(), \"a.max()\")\n",
        "print_obj(a.min(), \"a.min()\")\n",
        "\n",
        "# Quiz: Given a = np.arange(24).reshape((2,3,4)), what is the mean of the sum w.r.t to the last dimension?"
      ],
      "execution_count": null,
      "outputs": []
    },
    {
      "cell_type": "code",
      "metadata": {
        "id": "dlR9FKktfwMz"
      },
      "source": [
        "# Vector dot product\n",
        "a = np.arange(3).astype('float')\n",
        "b = np.ones(3)\n",
        "print_obj(a, \"a\")\n",
        "print_obj(b, \"b\")\n",
        "\n",
        "print_obj(np.dot(a, b), \"a dot b\")"
      ],
      "execution_count": null,
      "outputs": []
    },
    {
      "cell_type": "code",
      "metadata": {
        "id": "Ow9zohfYfwM0"
      },
      "source": [
        "# Matrix dot product, matrix multiplication\n",
        "a = np.arange(6).reshape((3, 2))\n",
        "b = np.ones((2, 3))\n",
        "print_obj(a, \"a\")\n",
        "print_obj(b, \"b\")\n",
        "\n",
        "print_obj(np.dot(a,b), \"a dot b\")\n",
        "print_obj(a@b, \"a @ b\")"
      ],
      "execution_count": null,
      "outputs": []
    },
    {
      "cell_type": "code",
      "metadata": {
        "id": "rvQVy31tfwM0"
      },
      "source": [
        "# Tensor dot product, tensor multiplication\n",
        "a = np.arange(24).reshape((4, 3, 2))\n",
        "b = np.ones((4, 2, 3))\n",
        "print_obj(a, \"a\")\n",
        "print_obj(b, \"b\")\n",
        "\n",
        "print_obj(np.dot(a,b).shape, \"a dot b\")\n",
        "print_obj((a@b).shape, \"a @ b\")\n",
        "\n",
        "# Quiz: what would happen if a.shape==(4,3,2) and b.shape==(2,3)?"
      ],
      "execution_count": null,
      "outputs": []
    },
    {
      "cell_type": "markdown",
      "metadata": {
        "id": "ObRxLQnQfwM0"
      },
      "source": [
        "### Shape Manipulation"
      ]
    },
    {
      "cell_type": "code",
      "metadata": {
        "id": "NJ0uZGyrfwM0"
      },
      "source": [
        "# Reshapes\n",
        "a = np.arange(24).reshape((2, 3, 4))\n",
        "print_obj(a, \"a\")\n",
        "\n",
        "b = a.reshape((6, 4))\n",
        "print_obj(b, \"b\")\n",
        "\n",
        "c = a.reshape((6, -1))\n",
        "print_obj(c, \"c\")\n",
        "\n",
        "# Quiz: What would d=a.reshape((6, 4, -1)) look like?"
      ],
      "execution_count": null,
      "outputs": []
    },
    {
      "cell_type": "code",
      "metadata": {
        "id": "IqT4h_aMfwM1"
      },
      "source": [
        "# Adding an extra dimension\n",
        "a = np.arange(3)\n",
        "print_obj(a, \"a\")\n",
        "\n",
        "print_obj(a[:, None], \"a[:, None]\")\n",
        "\n",
        "# Quiz: How to make a = np.ones((3,4)) into shape (3, 1, 1, 4) using reshape and None?"
      ],
      "execution_count": null,
      "outputs": []
    },
    {
      "cell_type": "code",
      "metadata": {
        "id": "jKQgItd5fwM1"
      },
      "source": [
        "# Stack, concatenation\n",
        "a = np.ones((3,2))\n",
        "b = np.zeros((3,2))\n",
        "print_obj(a, \"a\")\n",
        "print_obj(b, \"b\")\n",
        "\n",
        "# print_obj(np.vstack([a, b]), \"a,b vstack\")\n",
        "print_obj(np.hstack([a, b]), \"a,b hstack\")\n",
        "# print_obj(np.hstack([a, b, a]), \"a,b hstack\")\n",
        "\n",
        "# print_obj(np.concatenate([a, b], axis=0), \"a,b concat axis=0\")\n",
        "# print_obj(np.concatenate([a, b], axis=1), \"a,b concat axis=1\")\n",
        "\n",
        "# Quiz: Would concatenating two tensors whose shapes are (4, 3, 2) and (5, 4, 2) on axis=2 work?"
      ],
      "execution_count": null,
      "outputs": []
    },
    {
      "cell_type": "code",
      "metadata": {
        "id": "JLJC4zW_fwM1"
      },
      "source": [
        "# Matrix transpose\n",
        "a = np.arange(6).reshape((3, 2))\n",
        "print_obj(a, \"a\")\n",
        "\n",
        "print_obj(a.T, \"a.T\")"
      ],
      "execution_count": null,
      "outputs": []
    },
    {
      "cell_type": "code",
      "metadata": {
        "id": "sKTDz-b-fwM1"
      },
      "source": [
        "# Tensor transpose\n",
        "a = np.arange(24).reshape((4, 3, 2))\n",
        "print_obj(a, \"a\")\n",
        "\n",
        "# b = np.transpose(a, [0, 2, 1])\n",
        "# print_obj(b, \"Swap axis 1 and 2\")\n",
        "# print_obj(b.shape, \"b's shape\")\n",
        "\n",
        "c = np.transpose(a, [1, 0, 2])\n",
        "print_obj(c, \"Swap axis 0 and 1\")\n",
        "print_obj(c.shape, \"c's shape\")"
      ],
      "execution_count": null,
      "outputs": []
    },
    {
      "cell_type": "markdown",
      "metadata": {
        "id": "bIKxGdlpfwM2"
      },
      "source": [
        "### Broadcasting"
      ]
    },
    {
      "cell_type": "code",
      "metadata": {
        "id": "9qa-0LHdfwM2"
      },
      "source": [
        "# Vector and scalar\n",
        "a = np.arange(3)\n",
        "b = 2.\n",
        "print_obj(a, \"a\")\n",
        "\n",
        "print_obj(a+b, \"a+b\")\n",
        "print_obj(a-b, \"a-b\")\n",
        "print_obj(a*b, \"a*b\")\n",
        "print_obj(a/b, \"a/b\")"
      ],
      "execution_count": null,
      "outputs": []
    },
    {
      "cell_type": "code",
      "metadata": {
        "id": "ips7aRkJfwM2"
      },
      "source": [
        "# Matrix and vector\n",
        "a = np.arange(6).reshape((3,2))\n",
        "b = np.arange(2).reshape(2) + 1\n",
        "print_obj(a, \"a\")\n",
        "print_obj(b, \"b\")\n",
        "\n",
        "print_obj(a+b, \"a+b\")\n",
        "\n",
        "# Quiz: What would happen if b were np.arange(2).reshape((2, 1))? How about np.arange(2).reshape((1, 2))?"
      ],
      "execution_count": null,
      "outputs": []
    },
    {
      "cell_type": "code",
      "metadata": {
        "id": "1sc6vn8yfwM2"
      },
      "source": [
        "# Tensor and matrix\n",
        "a = np.arange(12).reshape((2,3,2))\n",
        "b = np.arange(6).reshape((3,2))\n",
        "print_obj(a, \"a\")\n",
        "print_obj(b, \"b\")\n",
        "\n",
        "print_obj(a+b, \"a+b\")\n",
        "\n",
        "#Quiz: How can we use None to do a+b?"
      ],
      "execution_count": null,
      "outputs": []
    },
    {
      "cell_type": "code",
      "metadata": {
        "colab": {
          "base_uri": "https://localhost:8080/"
        },
        "id": "PZYx7ZUn5yUY",
        "outputId": "5a1f3412-e3ab-40ed-d3c5-175f674d81b0"
      },
      "source": [
        "m = 10\n",
        "n = 3\n",
        "# M = np.arange(m*n).reshape((m,n))\n",
        "M = np.random.normal(size=(m,n))\n",
        "print_obj(M, \"M\")\n",
        "\n",
        "h = M.shape[0]//2\n",
        "first = M[:h]\n",
        "second = M[h:]\n",
        "odd = M[::2]\n",
        "even = M[1::2]\n",
        "\n",
        "X = np.hstack([first, second, odd, even])\n",
        "print_obj(X, \"X\")\n",
        "print_obj(X.shape, \"X.shape\")                \n",
        "\n",
        "# W = np.arange(4*n*n).reshape((4*n,n))\n",
        "W = np.random.normal(size=(4*n,n))\n",
        "print_obj(W, \"W\")\n",
        "print_obj(W.shape, \"W.shape\")   \n",
        "\n",
        "Y = X @ W\n",
        "print_obj(Y, \"Y\")\n",
        "print_obj(Y.shape, \"Y.shape\")\n",
        "\n",
        "print(np.mean(sigmoid(Y), axis=0))  "
      ],
      "execution_count": 85,
      "outputs": [
        {
          "output_type": "stream",
          "name": "stdout",
          "text": [
            "M:\n",
            "[[ 2.34455743e+00 -3.78564846e-04 -9.32580770e-01]\n",
            " [-7.56824337e-01  8.31754484e-01 -7.39997162e-01]\n",
            " [-1.38076209e+00 -9.25934963e-01 -1.13810357e+00]\n",
            " [-1.49588691e+00 -8.08836052e-01 -1.71860602e+00]\n",
            " [-3.45660815e-01  5.95039372e-01  4.92277636e-01]\n",
            " [ 1.29451879e+00 -4.64657204e-01 -8.93789042e-01]\n",
            " [ 1.61621955e+00 -5.35327608e-01  5.55164848e-01]\n",
            " [-3.73694328e-01  1.15404411e+00  1.56241699e+00]\n",
            " [-1.93104586e+00  7.27026656e-01  3.91783100e-01]\n",
            " [-3.03328133e-01  2.23933630e+00  7.45074063e-01]]\n",
            "\n",
            "X:\n",
            "[[ 2.34455743e+00 -3.78564846e-04 -9.32580770e-01  1.29451879e+00\n",
            "  -4.64657204e-01 -8.93789042e-01  2.34455743e+00 -3.78564846e-04\n",
            "  -9.32580770e-01 -7.56824337e-01  8.31754484e-01 -7.39997162e-01]\n",
            " [-7.56824337e-01  8.31754484e-01 -7.39997162e-01  1.61621955e+00\n",
            "  -5.35327608e-01  5.55164848e-01 -1.38076209e+00 -9.25934963e-01\n",
            "  -1.13810357e+00 -1.49588691e+00 -8.08836052e-01 -1.71860602e+00]\n",
            " [-1.38076209e+00 -9.25934963e-01 -1.13810357e+00 -3.73694328e-01\n",
            "   1.15404411e+00  1.56241699e+00 -3.45660815e-01  5.95039372e-01\n",
            "   4.92277636e-01  1.29451879e+00 -4.64657204e-01 -8.93789042e-01]\n",
            " [-1.49588691e+00 -8.08836052e-01 -1.71860602e+00 -1.93104586e+00\n",
            "   7.27026656e-01  3.91783100e-01  1.61621955e+00 -5.35327608e-01\n",
            "   5.55164848e-01 -3.73694328e-01  1.15404411e+00  1.56241699e+00]\n",
            " [-3.45660815e-01  5.95039372e-01  4.92277636e-01 -3.03328133e-01\n",
            "   2.23933630e+00  7.45074063e-01 -1.93104586e+00  7.27026656e-01\n",
            "   3.91783100e-01 -3.03328133e-01  2.23933630e+00  7.45074063e-01]]\n",
            "\n",
            "X.shape:\n",
            "(5, 12)\n",
            "\n",
            "W:\n",
            "[[-0.9472986   1.91552933  0.16238008]\n",
            " [-0.13339557  0.17838354 -0.8410078 ]\n",
            " [ 0.76350653  1.19073394  1.6503084 ]\n",
            " [-2.26346722  0.41427591  1.46898879]\n",
            " [-0.12521395  0.99739551 -0.7362798 ]\n",
            " [-0.23580967  0.5585809   0.61223209]\n",
            " [ 2.25895695  0.17429697  0.06962609]\n",
            " [-0.15336882  1.26215252 -0.93322016]\n",
            " [-0.36803064  0.20536684  0.69929274]\n",
            " [-1.39463789  1.11192075  0.45114746]\n",
            " [ 0.35932161  0.93416778  2.21556885]\n",
            " [ 0.13153526  0.1695358  -0.62464675]]\n",
            "\n",
            "W.shape:\n",
            "(12, 3)\n",
            "\n",
            "Y:\n",
            "[[ 1.30242602  2.98079669  2.01358234]\n",
            " [-4.66983371 -6.09007975 -0.35665904]\n",
            " [-2.24770822 -0.65059265 -1.88808424]\n",
            " [ 9.07032812 -4.26462341 -3.11836577]\n",
            " [-2.43775548  5.09667811  2.43783718]]\n",
            "\n",
            "Y.shape:\n",
            "(5, 3)\n",
            "\n",
            "[0.39426014 0.46091951 0.47749417]\n"
          ]
        }
      ]
    },
    {
      "cell_type": "markdown",
      "metadata": {
        "id": "DHcem--xfwM2"
      },
      "source": [
        "### Final Quiz"
      ]
    },
    {
      "cell_type": "code",
      "metadata": {
        "id": "0xgRJcI5fwM2"
      },
      "source": [
        "def sigmoid(x):\n",
        "    return 1./(1. + np.exp(-x))\n",
        "\n",
        "# Define a function that, given M of shape (m,n) and W of shape (4n, n), executes the following:\n",
        "# - Take the first half rows of M\n",
        "# - Take the second half rows of M\n",
        "# - Take the odd-numbered rows of M\n",
        "# - Take the even-numbered rows of M\n",
        "# - Append them horizontally in the listed order so that you obtain a matrix X of shape (?, 4n)\n",
        "# - Linearly transform X with W so that you obtain a matrix Y of shape (?, ?)\n",
        "# - Put Y through the sigmoid function\n",
        "# - Obtain the sum of the row-wise mean\n",
        "def foo(M, W):\n",
        "  h = M.shape[0]//2   # assume: M.shape[0] should be even\n",
        "\n",
        "  first = M[:h]\n",
        "  second = M[h:]\n",
        "  odd = M[::2]\n",
        "  even = M[1::2]\n",
        "\n",
        "  X = np.hstack([first, second, odd, even])   # X: shape(2/M, 4n)\n",
        "  Y = X @ W                                   # Y: shape(2/M, n)\n",
        "\n",
        "  return np.mean(sigmoid(Y), axis=0).sum()"
      ],
      "execution_count": null,
      "outputs": []
    },
    {
      "cell_type": "code",
      "metadata": {
        "colab": {
          "base_uri": "https://localhost:8080/"
        },
        "id": "xkZ2uL2x-3ER",
        "outputId": "ef69b5f0-a9dd-416d-eba1-91ad25380980"
      },
      "source": [
        "for m in [2, 4, 8]:     # m: should be even\n",
        "  for n in [3, 4, 7]:   # n: whatever\n",
        "    M = np.random.normal(size=(m,n))\n",
        "    W = np.random.normal(size=(4*n,n))\n",
        "    print_obj(foo(M, W), \"foo(shape(%s,%s), shape(%s,%s))\" % (m, n, 4*n, n))"
      ],
      "execution_count": 86,
      "outputs": [
        {
          "output_type": "stream",
          "name": "stdout",
          "text": [
            "foo(shape(2,3), shape(12,3)):\n",
            "0.7942474826519973\n",
            "\n",
            "foo(shape(2,4), shape(16,4)):\n",
            "2.0668001753154313\n",
            "\n",
            "foo(shape(2,7), shape(28,7)):\n",
            "2.9037101504798075\n",
            "\n",
            "foo(shape(4,3), shape(12,3)):\n",
            "0.18261225165733022\n",
            "\n",
            "foo(shape(4,4), shape(16,4)):\n",
            "1.5306362878755966\n",
            "\n",
            "foo(shape(4,7), shape(28,7)):\n",
            "3.344868289200708\n",
            "\n",
            "foo(shape(8,3), shape(12,3)):\n",
            "1.308954152927829\n",
            "\n",
            "foo(shape(8,4), shape(16,4)):\n",
            "1.6179498569241744\n",
            "\n",
            "foo(shape(8,7), shape(28,7)):\n",
            "3.8713795528407315\n",
            "\n"
          ]
        }
      ]
    },
    {
      "cell_type": "code",
      "metadata": {
        "id": "pI2x6CI5HPwK"
      },
      "source": [
        ""
      ],
      "execution_count": null,
      "outputs": []
    }
  ]
}