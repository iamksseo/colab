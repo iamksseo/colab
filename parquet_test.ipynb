{
  "nbformat": 4,
  "nbformat_minor": 0,
  "metadata": {
    "colab": {
      "name": "Untitled3.ipynb",
      "provenance": [],
      "toc_visible": true,
      "authorship_tag": "ABX9TyOiJXnZAJ6YShGm7t+ieCPA",
      "include_colab_link": true
    },
    "kernelspec": {
      "name": "python3",
      "display_name": "Python 3"
    },
    "language_info": {
      "name": "python"
    }
  },
  "cells": [
    {
      "cell_type": "markdown",
      "metadata": {
        "id": "view-in-github",
        "colab_type": "text"
      },
      "source": [
        "<a href=\"https://colab.research.google.com/github/iamksseo/colab/blob/master/parquet_test.ipynb\" target=\"_parent\"><img src=\"https://colab.research.google.com/assets/colab-badge.svg\" alt=\"Open In Colab\"/></a>"
      ]
    },
    {
      "cell_type": "markdown",
      "metadata": {
        "id": "olPcpOCZLDKm"
      },
      "source": [
        "## Reading and Writing the Apache Parquet Format\n",
        "* Ref -> https://arrow.apache.org/docs/python/parquet.html\n"
      ]
    },
    {
      "cell_type": "markdown",
      "metadata": {
        "id": "g4bP41f4Lcu_"
      },
      "source": [
        "### Obtaining pyarrow with Parquet Support"
      ]
    },
    {
      "cell_type": "code",
      "metadata": {
        "id": "ailz6iUoLBL1"
      },
      "source": [
        "import pyarrow.parquet as pq"
      ],
      "execution_count": 1,
      "outputs": []
    },
    {
      "cell_type": "markdown",
      "metadata": {
        "id": "rlX6G47xLkNR"
      },
      "source": [
        "### Reading and Writing Single File"
      ]
    },
    {
      "cell_type": "code",
      "metadata": {
        "colab": {
          "base_uri": "https://localhost:8080/"
        },
        "id": "dA8HMnIdLo7F",
        "outputId": "4b6f2f15-b38d-4f85-cd62-38540db853db"
      },
      "source": [
        "import numpy as np\n",
        "import pandas as pd\n",
        "import pyarrow as pa\n",
        "\n",
        "df = pd.DataFrame({'one': [-1, np.nan, 2.5],\n",
        "                   'two': ['foo', 'bar', 'baz'],\n",
        "                   'three': [True, False, True]},\n",
        "                  index=list('abc'))\n",
        "print(df) #\n",
        "\n",
        "table = pa.Table.from_pandas(df)"
      ],
      "execution_count": 5,
      "outputs": [
        {
          "output_type": "stream",
          "name": "stdout",
          "text": [
            "   one  two  three\n",
            "a -1.0  foo   True\n",
            "b  NaN  bar  False\n",
            "c  2.5  baz   True\n"
          ]
        }
      ]
    },
    {
      "cell_type": "code",
      "metadata": {
        "colab": {
          "base_uri": "https://localhost:8080/",
          "height": 142
        },
        "id": "n0N4FayDMNOd",
        "outputId": "61a41309-4dc1-4ce6-ad9d-b4cafa157c10"
      },
      "source": [
        "pq.write_table(table, 'example.parquet')\n",
        "\n",
        "table2 = pq.read_table('example.parquet')\n",
        "table2.to_pandas()"
      ],
      "execution_count": 6,
      "outputs": [
        {
          "output_type": "execute_result",
          "data": {
            "text/html": [
              "<div>\n",
              "<style scoped>\n",
              "    .dataframe tbody tr th:only-of-type {\n",
              "        vertical-align: middle;\n",
              "    }\n",
              "\n",
              "    .dataframe tbody tr th {\n",
              "        vertical-align: top;\n",
              "    }\n",
              "\n",
              "    .dataframe thead th {\n",
              "        text-align: right;\n",
              "    }\n",
              "</style>\n",
              "<table border=\"1\" class=\"dataframe\">\n",
              "  <thead>\n",
              "    <tr style=\"text-align: right;\">\n",
              "      <th></th>\n",
              "      <th>one</th>\n",
              "      <th>two</th>\n",
              "      <th>three</th>\n",
              "    </tr>\n",
              "  </thead>\n",
              "  <tbody>\n",
              "    <tr>\n",
              "      <th>a</th>\n",
              "      <td>-1.0</td>\n",
              "      <td>foo</td>\n",
              "      <td>True</td>\n",
              "    </tr>\n",
              "    <tr>\n",
              "      <th>b</th>\n",
              "      <td>NaN</td>\n",
              "      <td>bar</td>\n",
              "      <td>False</td>\n",
              "    </tr>\n",
              "    <tr>\n",
              "      <th>c</th>\n",
              "      <td>2.5</td>\n",
              "      <td>baz</td>\n",
              "      <td>True</td>\n",
              "    </tr>\n",
              "  </tbody>\n",
              "</table>\n",
              "</div>"
            ],
            "text/plain": [
              "   one  two  three\n",
              "a -1.0  foo   True\n",
              "b  NaN  bar  False\n",
              "c  2.5  baz   True"
            ]
          },
          "metadata": {},
          "execution_count": 6
        }
      ]
    },
    {
      "cell_type": "code",
      "metadata": {
        "colab": {
          "base_uri": "https://localhost:8080/"
        },
        "id": "tyjRkB49MnbJ",
        "outputId": "f56b5aa7-c297-45f8-d41c-26172a50692b"
      },
      "source": [
        "table3 = pq.read_table('example.parquet', columns=['one', 'three'])\n",
        "print(table3.to_pandas())"
      ],
      "execution_count": 7,
      "outputs": [
        {
          "output_type": "stream",
          "name": "stdout",
          "text": [
            "   one  three\n",
            "0 -1.0   True\n",
            "1  NaN  False\n",
            "2  2.5   True\n"
          ]
        }
      ]
    },
    {
      "cell_type": "markdown",
      "metadata": {
        "id": "GerKt7OwLCZ2"
      },
      "source": [
        ""
      ]
    },
    {
      "cell_type": "markdown",
      "metadata": {
        "id": "XyCo-WzILBuA"
      },
      "source": [
        ""
      ]
    }
  ]
}